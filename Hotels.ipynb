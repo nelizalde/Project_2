{
 "cells": [
  {
   "cell_type": "code",
<<<<<<< HEAD
   "execution_count": 3,
=======
   "execution_count": 1,
>>>>>>> 60e5f8b43361ff9a708723fadab1b125e91b357b
   "metadata": {},
   "outputs": [],
   "source": [
    "from zipfile import ZipFile\n",
    "import os\n",
    "import csv\n",
    "import pandas as pd"
   ]
  },
  {
   "cell_type": "code",
<<<<<<< HEAD
   "execution_count": 4,
=======
   "execution_count": 2,
>>>>>>> 60e5f8b43361ff9a708723fadab1b125e91b357b
   "metadata": {},
   "outputs": [],
   "source": [
    "# zf = zipfile.ZipFile(\"cleaned_data.zip\") # having First.csv zipped file.\n",
    "# df = pd.read_csv(zf.open('cleaned_data.csv'))\n",
    "\n",
    "cleaned_data = pd.read_csv('cleaned_data.zip', compression='infer', header=0, sep=',', quotechar='\"')"
   ]
  },
  {
   "cell_type": "code",
<<<<<<< HEAD
   "execution_count": 5,
=======
   "execution_count": 3,
>>>>>>> 60e5f8b43361ff9a708723fadab1b125e91b357b
   "metadata": {},
   "outputs": [
    {
     "data": {
      "text/html": [
       "<div>\n",
       "<style scoped>\n",
       "    .dataframe tbody tr th:only-of-type {\n",
       "        vertical-align: middle;\n",
       "    }\n",
       "\n",
       "    .dataframe tbody tr th {\n",
       "        vertical-align: top;\n",
       "    }\n",
       "\n",
       "    .dataframe thead th {\n",
       "        text-align: right;\n",
       "    }\n",
       "</style>\n",
       "<table border=\"1\" class=\"dataframe\">\n",
       "  <thead>\n",
       "    <tr style=\"text-align: right;\">\n",
       "      <th></th>\n",
       "      <th>hotel_address</th>\n",
       "      <th>additional_number_of_scoring</th>\n",
       "      <th>review_date</th>\n",
       "      <th>average_score</th>\n",
       "      <th>hotel_name</th>\n",
       "      <th>total_number_of_reviews</th>\n",
       "      <th>reviewer_score</th>\n",
       "      <th>lat</th>\n",
       "      <th>lng</th>\n",
       "    </tr>\n",
       "  </thead>\n",
       "  <tbody>\n",
       "    <tr>\n",
       "      <th>0</th>\n",
       "      <td>s Gravesandestraat 55 Oost 1092 AA Amsterdam ...</td>\n",
       "      <td>194</td>\n",
       "      <td>8/3/2017</td>\n",
       "      <td>7.7</td>\n",
       "      <td>Hotel Arena</td>\n",
       "      <td>1403</td>\n",
       "      <td>2.9</td>\n",
       "      <td>52.360576</td>\n",
       "      <td>4.915968</td>\n",
       "    </tr>\n",
       "    <tr>\n",
       "      <th>1</th>\n",
       "      <td>s Gravesandestraat 55 Oost 1092 AA Amsterdam ...</td>\n",
       "      <td>194</td>\n",
       "      <td>8/3/2017</td>\n",
       "      <td>7.7</td>\n",
       "      <td>Hotel Arena</td>\n",
       "      <td>1403</td>\n",
       "      <td>7.5</td>\n",
       "      <td>52.360576</td>\n",
       "      <td>4.915968</td>\n",
       "    </tr>\n",
       "    <tr>\n",
       "      <th>2</th>\n",
       "      <td>s Gravesandestraat 55 Oost 1092 AA Amsterdam ...</td>\n",
       "      <td>194</td>\n",
       "      <td>7/31/2017</td>\n",
       "      <td>7.7</td>\n",
       "      <td>Hotel Arena</td>\n",
       "      <td>1403</td>\n",
       "      <td>7.1</td>\n",
       "      <td>52.360576</td>\n",
       "      <td>4.915968</td>\n",
       "    </tr>\n",
       "    <tr>\n",
       "      <th>3</th>\n",
       "      <td>s Gravesandestraat 55 Oost 1092 AA Amsterdam ...</td>\n",
       "      <td>194</td>\n",
       "      <td>7/31/2017</td>\n",
       "      <td>7.7</td>\n",
       "      <td>Hotel Arena</td>\n",
       "      <td>1403</td>\n",
       "      <td>3.8</td>\n",
       "      <td>52.360576</td>\n",
       "      <td>4.915968</td>\n",
       "    </tr>\n",
       "    <tr>\n",
       "      <th>4</th>\n",
       "      <td>s Gravesandestraat 55 Oost 1092 AA Amsterdam ...</td>\n",
       "      <td>194</td>\n",
       "      <td>7/24/2017</td>\n",
       "      <td>7.7</td>\n",
       "      <td>Hotel Arena</td>\n",
       "      <td>1403</td>\n",
       "      <td>6.7</td>\n",
       "      <td>52.360576</td>\n",
       "      <td>4.915968</td>\n",
       "    </tr>\n",
       "  </tbody>\n",
       "</table>\n",
       "</div>"
      ],
      "text/plain": [
       "                                       hotel_address  \\\n",
       "0   s Gravesandestraat 55 Oost 1092 AA Amsterdam ...   \n",
       "1   s Gravesandestraat 55 Oost 1092 AA Amsterdam ...   \n",
       "2   s Gravesandestraat 55 Oost 1092 AA Amsterdam ...   \n",
       "3   s Gravesandestraat 55 Oost 1092 AA Amsterdam ...   \n",
       "4   s Gravesandestraat 55 Oost 1092 AA Amsterdam ...   \n",
       "\n",
       "   additional_number_of_scoring review_date  average_score   hotel_name  \\\n",
       "0                           194    8/3/2017            7.7  Hotel Arena   \n",
       "1                           194    8/3/2017            7.7  Hotel Arena   \n",
       "2                           194   7/31/2017            7.7  Hotel Arena   \n",
       "3                           194   7/31/2017            7.7  Hotel Arena   \n",
       "4                           194   7/24/2017            7.7  Hotel Arena   \n",
       "\n",
       "   total_number_of_reviews  reviewer_score        lat       lng  \n",
       "0                     1403             2.9  52.360576  4.915968  \n",
       "1                     1403             7.5  52.360576  4.915968  \n",
       "2                     1403             7.1  52.360576  4.915968  \n",
       "3                     1403             3.8  52.360576  4.915968  \n",
       "4                     1403             6.7  52.360576  4.915968  "
      ]
     },
<<<<<<< HEAD
     "execution_count": 5,
=======
     "execution_count": 3,
>>>>>>> 60e5f8b43361ff9a708723fadab1b125e91b357b
     "metadata": {},
     "output_type": "execute_result"
    }
   ],
   "source": [
    "cleaned_data.head()"
   ]
  },
  {
   "cell_type": "code",
<<<<<<< HEAD
   "execution_count": 6,
=======
   "execution_count": 4,
>>>>>>> 60e5f8b43361ff9a708723fadab1b125e91b357b
   "metadata": {},
   "outputs": [],
   "source": [
    "# unique_hotel_list = []\n",
    "# for hotel in cleaned_data[\"hotel_name\"]:\n",
    "#     if hotel not in unique_hotel_list:\n",
    "#         unique_hotel_list.append(unique_hotel_list)\n",
    "# print(unique_hotel_list)"
   ]
  },
  {
   "cell_type": "code",
<<<<<<< HEAD
   "execution_count": 7,
=======
   "execution_count": 6,
>>>>>>> 60e5f8b43361ff9a708723fadab1b125e91b357b
   "metadata": {},
   "outputs": [
    {
     "data": {
      "text/html": [
       "<div>\n",
       "<style scoped>\n",
       "    .dataframe tbody tr th:only-of-type {\n",
       "        vertical-align: middle;\n",
       "    }\n",
       "\n",
       "    .dataframe tbody tr th {\n",
       "        vertical-align: top;\n",
       "    }\n",
       "\n",
       "    .dataframe thead th {\n",
       "        text-align: right;\n",
       "    }\n",
       "</style>\n",
       "<table border=\"1\" class=\"dataframe\">\n",
       "  <thead>\n",
       "    <tr style=\"text-align: right;\">\n",
       "      <th></th>\n",
       "      <th>hotel_name</th>\n",
       "    </tr>\n",
       "  </thead>\n",
       "  <tbody>\n",
       "    <tr>\n",
       "      <th>0</th>\n",
       "      <td>Zenit Barcelona</td>\n",
       "    </tr>\n",
       "    <tr>\n",
       "      <th>1</th>\n",
       "      <td>Mandarin Oriental Milan</td>\n",
       "    </tr>\n",
       "    <tr>\n",
       "      <th>2</th>\n",
       "      <td>Abba Sants</td>\n",
       "    </tr>\n",
       "    <tr>\n",
       "      <th>3</th>\n",
       "      <td>My Home In Paris</td>\n",
       "    </tr>\n",
       "    <tr>\n",
       "      <th>4</th>\n",
       "      <td>Paris Marriott Rive Gauche Hotel</td>\n",
       "    </tr>\n",
       "  </tbody>\n",
       "</table>\n",
       "</div>"
      ],
      "text/plain": [
       "                         hotel_name\n",
       "0                   Zenit Barcelona\n",
       "1           Mandarin Oriental Milan\n",
       "2                        Abba Sants\n",
       "3                  My Home In Paris\n",
       "4  Paris Marriott Rive Gauche Hotel"
      ]
     },
<<<<<<< HEAD
     "execution_count": 7,
=======
     "execution_count": 6,
>>>>>>> 60e5f8b43361ff9a708723fadab1b125e91b357b
     "metadata": {},
     "output_type": "execute_result"
    }
   ],
   "source": [
    "#Import list of unique hotels\n",
    "hotel_name = pd.read_csv(\"hotelnames.csv\")\n",
    "hotel_name.head()"
   ]
  },
  {
   "cell_type": "code",
<<<<<<< HEAD
   "execution_count": 8,
=======
   "execution_count": 45,
>>>>>>> 60e5f8b43361ff9a708723fadab1b125e91b357b
   "metadata": {},
   "outputs": [
    {
     "data": {
      "text/html": [
       "<div>\n",
       "<style scoped>\n",
       "    .dataframe tbody tr th:only-of-type {\n",
       "        vertical-align: middle;\n",
       "    }\n",
       "\n",
       "    .dataframe tbody tr th {\n",
       "        vertical-align: top;\n",
       "    }\n",
       "\n",
       "    .dataframe thead th {\n",
       "        text-align: right;\n",
       "    }\n",
       "</style>\n",
       "<table border=\"1\" class=\"dataframe\">\n",
       "  <thead>\n",
       "    <tr style=\"text-align: right;\">\n",
       "      <th></th>\n",
       "      <th>hotel_address</th>\n",
       "      <th>additional_number_of_scoring</th>\n",
       "      <th>review_date</th>\n",
       "      <th>average_score</th>\n",
       "      <th>hotel_name</th>\n",
       "      <th>total_number_of_reviews</th>\n",
       "      <th>reviewer_score</th>\n",
       "      <th>lat</th>\n",
       "      <th>lng</th>\n",
       "    </tr>\n",
       "  </thead>\n",
       "  <tbody>\n",
       "    <tr>\n",
       "      <th>0</th>\n",
       "      <td>s Gravesandestraat 55 Oost 1092 AA Amsterdam ...</td>\n",
       "      <td>194</td>\n",
       "      <td>8/3/2017</td>\n",
       "      <td>7.7</td>\n",
       "      <td>Hotel Arena</td>\n",
       "      <td>1403</td>\n",
       "      <td>2.9</td>\n",
       "      <td>52.360576</td>\n",
       "      <td>4.915968</td>\n",
       "    </tr>\n",
       "    <tr>\n",
       "      <th>53</th>\n",
       "      <td>15 Rue Jacob 6th arr 75006 Paris France</td>\n",
       "      <td>87</td>\n",
       "      <td>4/12/2017</td>\n",
       "      <td>9.3</td>\n",
       "      <td>Mill sime H tel</td>\n",
       "      <td>656</td>\n",
       "      <td>10.0</td>\n",
       "      <td>48.855024</td>\n",
       "      <td>2.335079</td>\n",
       "    </tr>\n",
       "    <tr>\n",
       "      <th>406</th>\n",
       "      <td>1 15 Templeton Place Earl s Court Kensington a...</td>\n",
       "      <td>244</td>\n",
       "      <td>8/3/2017</td>\n",
       "      <td>8.5</td>\n",
       "      <td>K K Hotel George</td>\n",
       "      <td>1831</td>\n",
       "      <td>9.6</td>\n",
       "      <td>51.491888</td>\n",
       "      <td>-0.194971</td>\n",
       "    </tr>\n",
       "    <tr>\n",
       "      <th>549</th>\n",
       "      <td>1 Inverness Terrace Westminster Borough London...</td>\n",
       "      <td>1274</td>\n",
       "      <td>10/24/2015</td>\n",
       "      <td>7.7</td>\n",
       "      <td>Grand Royale London Hyde Park</td>\n",
       "      <td>6539</td>\n",
       "      <td>5.0</td>\n",
       "      <td>51.510995</td>\n",
       "      <td>-0.186342</td>\n",
       "    </tr>\n",
       "    <tr>\n",
       "      <th>645</th>\n",
       "      <td>1 Place Vend me 1st arr 75001 Paris France</td>\n",
       "      <td>70</td>\n",
       "      <td>6/16/2016</td>\n",
       "      <td>8.7</td>\n",
       "      <td>H tel De Vend me</td>\n",
       "      <td>425</td>\n",
       "      <td>8.3</td>\n",
       "      <td>48.866856</td>\n",
       "      <td>2.328634</td>\n",
       "    </tr>\n",
       "  </tbody>\n",
       "</table>\n",
       "</div>"
      ],
      "text/plain": [
       "                                         hotel_address  \\\n",
       "0     s Gravesandestraat 55 Oost 1092 AA Amsterdam ...   \n",
       "53             15 Rue Jacob 6th arr 75006 Paris France   \n",
       "406  1 15 Templeton Place Earl s Court Kensington a...   \n",
       "549  1 Inverness Terrace Westminster Borough London...   \n",
       "645         1 Place Vend me 1st arr 75001 Paris France   \n",
       "\n",
       "     additional_number_of_scoring review_date  average_score  \\\n",
       "0                             194    8/3/2017            7.7   \n",
       "53                             87   4/12/2017            9.3   \n",
       "406                           244    8/3/2017            8.5   \n",
       "549                          1274  10/24/2015            7.7   \n",
       "645                            70   6/16/2016            8.7   \n",
       "\n",
       "                        hotel_name  total_number_of_reviews  reviewer_score  \\\n",
       "0                      Hotel Arena                     1403             2.9   \n",
       "53                 Mill sime H tel                      656            10.0   \n",
       "406               K K Hotel George                     1831             9.6   \n",
       "549  Grand Royale London Hyde Park                     6539             5.0   \n",
       "645               H tel De Vend me                      425             8.3   \n",
       "\n",
       "           lat       lng  \n",
       "0    52.360576  4.915968  \n",
       "53   48.855024  2.335079  \n",
       "406  51.491888 -0.194971  \n",
       "549  51.510995 -0.186342  \n",
       "645  48.866856  2.328634  "
      ]
     },
<<<<<<< HEAD
     "execution_count": 8,
=======
     "execution_count": 45,
>>>>>>> 60e5f8b43361ff9a708723fadab1b125e91b357b
     "metadata": {},
     "output_type": "execute_result"
    }
   ],
   "source": [
    "#Create dataframe with unique hotel names\n",
    "unique_hotel = cleaned_data.drop_duplicates(\"hotel_name\")\n",
    "unique_hotel.head()"
   ]
  },
  {
   "cell_type": "code",
<<<<<<< HEAD
   "execution_count": 9,
=======
   "execution_count": 53,
>>>>>>> 60e5f8b43361ff9a708723fadab1b125e91b357b
   "metadata": {},
   "outputs": [
    {
     "name": "stderr",
     "output_type": "stream",
     "text": [
<<<<<<< HEAD
      "<ipython-input-9-b68797051ef9>:10: SettingWithCopyWarning: \n",
=======
      "<ipython-input-53-b68797051ef9>:10: SettingWithCopyWarning: \n",
>>>>>>> 60e5f8b43361ff9a708723fadab1b125e91b357b
      "A value is trying to be set on a copy of a slice from a DataFrame.\n",
      "Try using .loc[row_indexer,col_indexer] = value instead\n",
      "\n",
      "See the caveats in the documentation: https://pandas.pydata.org/pandas-docs/stable/user_guide/indexing.html#returning-a-view-versus-a-copy\n",
      "  unique_hotel[\"country\"]=countries_list\n",
      "/Users/yanyibing/opt/anaconda3/lib/python3.8/site-packages/pandas/core/series.py:4563: SettingWithCopyWarning: \n",
      "A value is trying to be set on a copy of a slice from a DataFrame\n",
      "\n",
      "See the caveats in the documentation: https://pandas.pydata.org/pandas-docs/stable/user_guide/indexing.html#returning-a-view-versus-a-copy\n",
      "  return super().replace(\n"
     ]
    },
    {
     "data": {
      "text/html": [
       "<div>\n",
       "<style scoped>\n",
       "    .dataframe tbody tr th:only-of-type {\n",
       "        vertical-align: middle;\n",
       "    }\n",
       "\n",
       "    .dataframe tbody tr th {\n",
       "        vertical-align: top;\n",
       "    }\n",
       "\n",
       "    .dataframe thead th {\n",
       "        text-align: right;\n",
       "    }\n",
       "</style>\n",
       "<table border=\"1\" class=\"dataframe\">\n",
       "  <thead>\n",
       "    <tr style=\"text-align: right;\">\n",
       "      <th></th>\n",
       "      <th>hotel_address</th>\n",
       "      <th>additional_number_of_scoring</th>\n",
       "      <th>review_date</th>\n",
       "      <th>average_score</th>\n",
       "      <th>hotel_name</th>\n",
       "      <th>total_number_of_reviews</th>\n",
       "      <th>reviewer_score</th>\n",
       "      <th>lat</th>\n",
       "      <th>lng</th>\n",
       "      <th>country</th>\n",
       "    </tr>\n",
       "  </thead>\n",
       "  <tbody>\n",
       "    <tr>\n",
       "      <th>0</th>\n",
       "      <td>s Gravesandestraat 55 Oost 1092 AA Amsterdam ...</td>\n",
       "      <td>194</td>\n",
       "      <td>8/3/2017</td>\n",
       "      <td>7.7</td>\n",
       "      <td>Hotel Arena</td>\n",
       "      <td>1403</td>\n",
       "      <td>2.9</td>\n",
       "      <td>52.360576</td>\n",
       "      <td>4.915968</td>\n",
       "      <td>Netherlands</td>\n",
       "    </tr>\n",
       "    <tr>\n",
       "      <th>53</th>\n",
       "      <td>15 Rue Jacob 6th arr 75006 Paris France</td>\n",
       "      <td>87</td>\n",
       "      <td>4/12/2017</td>\n",
       "      <td>9.3</td>\n",
       "      <td>Mill sime H tel</td>\n",
       "      <td>656</td>\n",
       "      <td>10.0</td>\n",
       "      <td>48.855024</td>\n",
       "      <td>2.335079</td>\n",
       "      <td>France</td>\n",
       "    </tr>\n",
       "    <tr>\n",
       "      <th>406</th>\n",
       "      <td>1 15 Templeton Place Earl s Court Kensington a...</td>\n",
       "      <td>244</td>\n",
       "      <td>8/3/2017</td>\n",
       "      <td>8.5</td>\n",
       "      <td>K K Hotel George</td>\n",
       "      <td>1831</td>\n",
       "      <td>9.6</td>\n",
       "      <td>51.491888</td>\n",
       "      <td>-0.194971</td>\n",
       "      <td>United Kingdom</td>\n",
       "    </tr>\n",
       "    <tr>\n",
       "      <th>549</th>\n",
       "      <td>1 Inverness Terrace Westminster Borough London...</td>\n",
       "      <td>1274</td>\n",
       "      <td>10/24/2015</td>\n",
       "      <td>7.7</td>\n",
       "      <td>Grand Royale London Hyde Park</td>\n",
       "      <td>6539</td>\n",
       "      <td>5.0</td>\n",
       "      <td>51.510995</td>\n",
       "      <td>-0.186342</td>\n",
       "      <td>United Kingdom</td>\n",
       "    </tr>\n",
       "    <tr>\n",
       "      <th>645</th>\n",
       "      <td>1 Place Vend me 1st arr 75001 Paris France</td>\n",
       "      <td>70</td>\n",
       "      <td>6/16/2016</td>\n",
       "      <td>8.7</td>\n",
       "      <td>H tel De Vend me</td>\n",
       "      <td>425</td>\n",
       "      <td>8.3</td>\n",
       "      <td>48.866856</td>\n",
       "      <td>2.328634</td>\n",
       "      <td>France</td>\n",
       "    </tr>\n",
       "  </tbody>\n",
       "</table>\n",
       "</div>"
      ],
      "text/plain": [
       "                                         hotel_address  \\\n",
       "0     s Gravesandestraat 55 Oost 1092 AA Amsterdam ...   \n",
       "53             15 Rue Jacob 6th arr 75006 Paris France   \n",
       "406  1 15 Templeton Place Earl s Court Kensington a...   \n",
       "549  1 Inverness Terrace Westminster Borough London...   \n",
       "645         1 Place Vend me 1st arr 75001 Paris France   \n",
       "\n",
       "     additional_number_of_scoring review_date  average_score  \\\n",
       "0                             194    8/3/2017            7.7   \n",
       "53                             87   4/12/2017            9.3   \n",
       "406                           244    8/3/2017            8.5   \n",
       "549                          1274  10/24/2015            7.7   \n",
       "645                            70   6/16/2016            8.7   \n",
       "\n",
       "                        hotel_name  total_number_of_reviews  reviewer_score  \\\n",
       "0                      Hotel Arena                     1403             2.9   \n",
       "53                 Mill sime H tel                      656            10.0   \n",
       "406               K K Hotel George                     1831             9.6   \n",
       "549  Grand Royale London Hyde Park                     6539             5.0   \n",
       "645               H tel De Vend me                      425             8.3   \n",
       "\n",
       "           lat       lng         country  \n",
       "0    52.360576  4.915968     Netherlands  \n",
       "53   48.855024  2.335079          France  \n",
       "406  51.491888 -0.194971  United Kingdom  \n",
       "549  51.510995 -0.186342  United Kingdom  \n",
       "645  48.866856  2.328634          France  "
      ]
     },
<<<<<<< HEAD
     "execution_count": 9,
=======
     "execution_count": 53,
>>>>>>> 60e5f8b43361ff9a708723fadab1b125e91b357b
     "metadata": {},
     "output_type": "execute_result"
    }
   ],
   "source": [
    "#Split the dataframe by country\n",
    "countries_list = []\n",
    "\n",
    "for index, row in unique_hotel.iterrows():\n",
    "    nameCountry = unique_hotel.loc[index, \"hotel_address\"]\n",
    "    getCountry = nameCountry.split(\" \")\n",
    "    #print(getCountry[-1])\n",
    "    countries_list.append(getCountry[-1])\n",
    "\n",
    "unique_hotel[\"country\"]=countries_list\n",
    "unique_hotel[\"country\"].replace({\"Kingdom\":\"United Kingdom\"}, inplace=True)\n",
    "unique_hotel.head()\n",
    "\n"
   ]
  },
  {
   "cell_type": "code",
<<<<<<< HEAD
   "execution_count": 10,
=======
   "execution_count": 55,
>>>>>>> 60e5f8b43361ff9a708723fadab1b125e91b357b
   "metadata": {
    "scrolled": true
   },
   "outputs": [
    {
     "data": {
      "text/plain": [
       "France            455\n",
       "United Kingdom    400\n",
       "Spain             208\n",
       "Italy             161\n",
       "Austria           146\n",
       "Netherlands       105\n",
       "Name: country, dtype: int64"
      ]
     },
<<<<<<< HEAD
     "execution_count": 10,
=======
     "execution_count": 55,
>>>>>>> 60e5f8b43361ff9a708723fadab1b125e91b357b
     "metadata": {},
     "output_type": "execute_result"
    }
   ],
   "source": [
    "unique_hotel[\"country\"].value_counts()"
   ]
  },
  {
   "cell_type": "code",
<<<<<<< HEAD
   "execution_count": 64,
=======
   "execution_count": null,
>>>>>>> 60e5f8b43361ff9a708723fadab1b125e91b357b
   "metadata": {},
   "outputs": [],
   "source": [
    "# get top 3-5 hotels per country - rating\n",
<<<<<<< HEAD
    "# list of top 1 hotel, 3 hotels \n",
    "# Maybe worst hotel(?)\n",
    "\n",
    "#List of top hotel of the 6 countries\n",
    "#France\n",
    "France_top = unique_hotel[unique_hotel[\"country\"]==\"France\"]\n",
    "france_sort = France_top.sort_values(by = 'average_score', ascending = False)\n",
    "france_sort.to_csv('france.csv')\n",
    "\n"
   ]
  },
  {
   "cell_type": "code",
   "execution_count": 65,
   "metadata": {},
   "outputs": [],
   "source": [
    "# #List of top hotel of the 6 countries\n",
    "# #United Kingdom\n",
    "UK_top = unique_hotel[unique_hotel[\"country\"]==\"United Kingdom\"]\n",
    "UK_sort = UK_top.sort_values(by = 'average_score', ascending = False)\n",
    "UK_sort.head()\n",
    "UK_sort.to_csv('UK.csv')                       \n"
   ]
  },
  {
   "cell_type": "code",
   "execution_count": 66,
   "metadata": {},
   "outputs": [],
   "source": [
    "#Spain\n",
    "Spain_top = unique_hotel[unique_hotel[\"country\"]==\"Spain\"]\n",
    "Spain_sort = Spain_top.sort_values(by = 'average_score', ascending = False)\n",
    "Spain_sort.head()\n",
    "Spain_sort.to_csv('spain.csv')"
   ]
  },
  {
   "cell_type": "code",
   "execution_count": 67,
   "metadata": {},
   "outputs": [],
   "source": [
    "#Italy\n",
    "Italy_top = unique_hotel[unique_hotel[\"country\"]==\"Italy\"]\n",
    "Italy_sort = Italy_top.sort_values(by = 'average_score', ascending = False)\n",
    "Italy_sort.head()\n",
    "Italy_sort.to_csv('italy.csv')"
   ]
  },
  {
   "cell_type": "code",
   "execution_count": 68,
   "metadata": {},
   "outputs": [],
   "source": [
    "#Austria\n",
    "Austria_top = unique_hotel[unique_hotel[\"country\"]==\"Austria\"]\n",
    "Austria_sort = Austria_top.sort_values(by = 'average_score', ascending = False)\n",
    "Austria_sort.head()\n",
    "Austria_sort.to_csv('austria.csv')"
   ]
  },
  {
   "cell_type": "code",
   "execution_count": 69,
   "metadata": {},
   "outputs": [],
   "source": [
    "#Netherlands \n",
    "Netherlands_top = unique_hotel[unique_hotel[\"country\"]==\"Netherlands\"]\n",
    "Netherlands_sort = Netherlands_top.sort_values(by = 'average_score', ascending = False)\n",
    "Netherlands_sort.head()\n",
    "Netherlands_sort.to_csv('netherlands.csv')"
   ]
  },
  {
   "cell_type": "code",
   "execution_count": 70,
   "metadata": {},
   "outputs": [],
   "source": [
    "#Europe top (average acore >9.6)\n",
    "Europe_top = unique_hotel[unique_hotel['average_score'] >= 9.6]\n",
    "Europe_top\n",
    "Europe_top.to_csv('europetop.csv')"
   ]
  },
  {
   "cell_type": "code",
   "execution_count": 71,
   "metadata": {},
   "outputs": [],
   "source": [
    "#Europe second top (average score > 9.5)\n",
    "Europe_sc_top = unique_hotel[(unique_hotel['average_score'] >= 9.5) & (unique_hotel['average_score'] < 9.6)]\n",
    "Europe_sc_top\n",
    "Europe_sc_top.to_csv('europesctop.csv')"
   ]
  },
  {
   "cell_type": "code",
   "execution_count": null,
   "metadata": {},
   "outputs": [],
   "source": []
=======
    "# list if top 1 hotel, 3-5 hotels, worst hotel\n"
   ]
>>>>>>> 60e5f8b43361ff9a708723fadab1b125e91b357b
  }
 ],
 "metadata": {
  "kernelspec": {
   "display_name": "Python 3",
   "language": "python",
   "name": "python3"
  },
  "language_info": {
   "codemirror_mode": {
    "name": "ipython",
    "version": 3
   },
   "file_extension": ".py",
   "mimetype": "text/x-python",
   "name": "python",
   "nbconvert_exporter": "python",
   "pygments_lexer": "ipython3",
   "version": "3.8.5"
  }
 },
 "nbformat": 4,
 "nbformat_minor": 4
}
